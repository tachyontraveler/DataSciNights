{
  "nbformat": 4,
  "nbformat_minor": 0,
  "metadata": {
    "colab": {
      "name": "chapter_classes",
      "version": "0.3.2",
      "provenance": [],
      "collapsed_sections": [],
      "include_colab_link": true
    },
    "kernelspec": {
      "name": "python3",
      "display_name": "Python 3"
    }
  },
  "cells": [
    {
      "cell_type": "markdown",
      "metadata": {
        "id": "view-in-github",
        "colab_type": "text"
      },
      "source": [
        "<a href=\"https://colab.research.google.com/github/tachyontraveler/DataSciNights/blob/master/chapter_Classes.ipynb\" target=\"_parent\"><img src=\"https://colab.research.google.com/assets/colab-badge.svg\" alt=\"Open In Colab\"/></a>"
      ]
    },
    {
      "cell_type": "markdown",
      "metadata": {
        "id": "9zjTbHBFuw1K",
        "colab_type": "text"
      },
      "source": [
        "# An Olympics for the US National Soccer Team!\n",
        "\n",
        "![alt text](https://cdn.ussoccer.com/-/jssmedia/project/ussf/2019-stories/07/wntvned/wntvnedlineupp1.ashx?mw=2560&rev=c94a069f94cdea0dac57f7f726706b25)"
      ]
    },
    {
      "cell_type": "markdown",
      "metadata": {
        "id": "RfjwttgW4lwJ",
        "colab_type": "text"
      },
      "source": [
        "Wanna learn how they create digital version of players for your computer games? None of the datastructures that you've already learned in this course can represent a real player in its entirety. For that purpose, we need a higher level datastructures which groups together several of other datastructures. \n",
        "\n",
        "Here, our goal is to implement a system which can fully represent an athlete with \n",
        "\n",
        "* Variables to store data about their\n",
        "  1. Speed\n",
        "  2. Stamina\n",
        "  3. Strength\n",
        "  4. Balance\n",
        "  5. Agility\n",
        "\n",
        "* Calculate data about their game skills. Examples below:\n",
        "  1. Soccer: Defence skill\n",
        "  2. Soccer: Striker Skill\n",
        "  3. Soccer: Midfileder Skill \n",
        "  4. Track Skills for Olympics (Sprint, Walk, Marathon, ...)\n",
        "  5. Field Skills for some of the Olympic games (Volleyball, ...)\n",
        "\n",
        "* A method to upgrade game levels for each player when needed\n",
        "  1. Need a function to update skills and physical attributes\n",
        "  2. It should take only the number of change in levels as input\n",
        "  "
      ]
    },
    {
      "cell_type": "markdown",
      "metadata": {
        "id": "7M_0KDeHut0d",
        "colab_type": "text"
      },
      "source": [
        "\n",
        "\n",
        "\n",
        "## Object Oriented Programming (OOP)\n",
        "OOP is a style of programming widely accepted and used in the world right now. It is implemented in several coding languages but they all have same underlying concepts.\n",
        "1. Attributes (Variables storing data values)\n",
        "2. Methods (Functions)\n",
        "3. Abstraction (Make processes simpler for the final user)\n",
        "4. Inheritance (Re-use code made for related classes)\n",
        "5. Encapsulation (Optionally store public and private data)\n",
        "\n",
        "In most languages, the OOP is implemented using Classes. There are two main steps in this process:\n",
        "1. Class declaration\n",
        "2. Class object creation\n"
      ]
    },
    {
      "cell_type": "code",
      "metadata": {
        "id": "FjKO1i1ipPcw",
        "colab_type": "code",
        "colab": {}
      },
      "source": [
        "# Here we are declaring a class with some data in it\n",
        "class athlete:\n",
        "  name = None\n",
        "  age  = None\n",
        "  \n",
        "  stamina  = 0\n",
        "  speed    = 0\n",
        "  strength = 0\n",
        "  balance  = 0\n",
        "  agility  = 0"
      ],
      "execution_count": 0,
      "outputs": []
    },
    {
      "cell_type": "code",
      "metadata": {
        "id": "RwdUPvYyjNri",
        "colab_type": "code",
        "colab": {}
      },
      "source": [
        "# Now creating a class object\n",
        "P1 = athlete()\n",
        "# Creating another object\n",
        "P2 = athlete()"
      ],
      "execution_count": 0,
      "outputs": []
    },
    {
      "cell_type": "code",
      "metadata": {
        "id": "CZ1MNTDGjO1n",
        "colab_type": "code",
        "outputId": "57a910a5-04dd-405c-b32b-dd07322492e3",
        "colab": {
          "base_uri": "https://localhost:8080/",
          "height": 70
        }
      },
      "source": [
        "# Print some of the data stored for players\n",
        "print(P1.name)\n",
        "print(P2.strength)\n",
        "print(P2.stamina)"
      ],
      "execution_count": 21,
      "outputs": [
        {
          "output_type": "stream",
          "text": [
            "None\n",
            "0\n",
            "0\n"
          ],
          "name": "stdout"
        }
      ]
    },
    {
      "cell_type": "code",
      "metadata": {
        "id": "vucSBl4PjnOU",
        "colab_type": "code",
        "colab": {}
      },
      "source": [
        "# Now change their stored names and skills\n",
        "\n",
        "P1.name = \"Rapinoe\"\n",
        "P1.speed   = 90\n",
        "P1.stamina = 50\n",
        "\n",
        "\n",
        "P2.name = \"Dunn\"\n",
        "P2.speed    = 60\n",
        "P2.strength = 80"
      ],
      "execution_count": 0,
      "outputs": []
    },
    {
      "cell_type": "code",
      "metadata": {
        "id": "mssToZ2ikZaG",
        "colab_type": "code",
        "outputId": "2fe1aaed-3dd6-4c51-cc46-d8e62dab27a3",
        "colab": {
          "base_uri": "https://localhost:8080/",
          "height": 70
        }
      },
      "source": [
        "# Print some of the data stored for players again\n",
        "print(P1.name)\n",
        "print(P2.strength)\n",
        "print(P2.stamina)"
      ],
      "execution_count": 23,
      "outputs": [
        {
          "output_type": "stream",
          "text": [
            "Rapinoe\n",
            "80\n",
            "0\n"
          ],
          "name": "stdout"
        }
      ]
    },
    {
      "cell_type": "markdown",
      "metadata": {
        "id": "Hd346KN4iUkT",
        "colab_type": "text"
      },
      "source": [
        "But this is not enough. Now we need to calculate some more data based on the given data for each class. First, let's define a few functions within the class to return calculated values."
      ]
    },
    {
      "cell_type": "code",
      "metadata": {
        "id": "P43K-QGy-zeH",
        "colab_type": "code",
        "colab": {}
      },
      "source": [
        "class athlete:\n",
        "  name = None\n",
        "  age  = None\n",
        "  \n",
        "  stamina  = 0\n",
        "  speed    = 0\n",
        "  strength = 0\n",
        "  balance  = 0\n",
        "  agility  = 0\n",
        "  \n",
        "  def calculate_striker(self):\n",
        "    striker_score  = (40.*self.speed + 40.*self.agility + 20*self.balance)/100.\n",
        "    return striker_score\n",
        "  \n",
        "  def calculate_midfield(self):\n",
        "    midfield_score = (30.*self.speed + 40.*self.stamina + 30*self.balance)/100.\n",
        "    return midfield_score\n",
        "  \n",
        "  def calculate_defence(self):\n",
        "    defence_score  = (30.*self.speed + 30.*self.stamina + 40*self.strength)/100.\n",
        "    return defence_score"
      ],
      "execution_count": 0,
      "outputs": []
    },
    {
      "cell_type": "code",
      "metadata": {
        "id": "4vHZhHmhCgDR",
        "colab_type": "code",
        "colab": {
          "base_uri": "https://localhost:8080/",
          "height": 88
        },
        "outputId": "4edacc52-2d9a-428d-d885-23bc0830ea7a"
      },
      "source": [
        "# Now creating a class object\n",
        "P1 = athlete()\n",
        "# Creating another object\n",
        "P2 = athlete()\n",
        "\n",
        "# Now change their stored names and skills\n",
        "\n",
        "P1.name = \"Rapinoe\"\n",
        "P1.stamina  = 82\n",
        "P1.speed    = 95\n",
        "P1.strength = 60\n",
        "P1.balance  = 74\n",
        "P1.agility  = 90\n",
        "\n",
        "\n",
        "P2.name = \"Dunn\"\n",
        "P2.stamina  = 80\n",
        "P2.speed    = 78\n",
        "P2.strength = 93\n",
        "P2.balance  = 67\n",
        "P2.agility  = 70\n",
        "\n",
        "print(P1.calculate_defence())\n",
        "print(P2.calculate_defence())\n",
        "\n",
        "print(P1.calculate_striker())\n",
        "print(P2.calculate_striker())"
      ],
      "execution_count": 32,
      "outputs": [
        {
          "output_type": "stream",
          "text": [
            "77.1\n",
            "84.6\n",
            "88.8\n",
            "72.6\n"
          ],
          "name": "stdout"
        }
      ]
    },
    {
      "cell_type": "code",
      "metadata": {
        "id": "fMNNl9DVnie9",
        "colab_type": "code",
        "colab": {}
      },
      "source": [
        ""
      ],
      "execution_count": 0,
      "outputs": []
    },
    {
      "cell_type": "markdown",
      "metadata": {
        "id": "v68zUDVAni3p",
        "colab_type": "text"
      },
      "source": [
        "Even this is not enough. We need to store these calculated values somehwhere in the players' Class objects. To do that, we can use a tag called *self*"
      ]
    },
    {
      "cell_type": "code",
      "metadata": {
        "id": "Q9DvyhFFCggy",
        "colab_type": "code",
        "colab": {}
      },
      "source": [
        "class athlete:\n",
        "  name = None\n",
        "  age  = None\n",
        "  \n",
        "  stamina  = 0\n",
        "  speed    = 0\n",
        "  strength = 0\n",
        "  balance  = 0\n",
        "  agility  = 0\n",
        "  \n",
        "  def calculate_striker(self):\n",
        "    self.striker_score  = (40.*self.speed + 40.*self.agility + 20*self.balance)/100.\n",
        "  \n",
        "  def calculate_midfield(self):\n",
        "    self.midfield_score = (30.*self.speed + 40.*self.stamina + 30*self.balance)/100.\n",
        "  \n",
        "  def calculate_defence(self):\n",
        "    self.defence_score  = (30.*self.speed + 30.*self.stamina + 40*self.strength)/100."
      ],
      "execution_count": 0,
      "outputs": []
    },
    {
      "cell_type": "code",
      "metadata": {
        "id": "kUWSqzlGCvq9",
        "colab_type": "code",
        "colab": {}
      },
      "source": [
        "# Now creating a class object\n",
        "P1 = athlete()\n",
        "# Creating another object\n",
        "P2 = athlete()\n",
        "\n",
        "# Now change their stored names and skills\n",
        "\n",
        "P1.name = \"Rapinoe\"\n",
        "P1.stamina  = 82\n",
        "P1.speed    = 95\n",
        "P1.strength = 60\n",
        "P1.balance  = 74\n",
        "P1.agility  = 90\n",
        "\n",
        "\n",
        "P2.name = \"Dunn\"\n",
        "P2.stamina  = 80\n",
        "P2.speed    = 78\n",
        "P2.strength = 93\n",
        "P2.balance  = 67\n",
        "P2.agility  = 70\n",
        "\n",
        "P1.calculate_defence()\n",
        "P2.calculate_defence()\n",
        "P1.calculate_striker()\n",
        "P2.calculate_striker()"
      ],
      "execution_count": 0,
      "outputs": []
    },
    {
      "cell_type": "code",
      "metadata": {
        "id": "Vb_ote-WoUp3",
        "colab_type": "code",
        "colab": {
          "base_uri": "https://localhost:8080/",
          "height": 52
        },
        "outputId": "92abf2e7-8afd-4b41-ab42-120267277824"
      },
      "source": [
        "# Now print the strike and defence scores for athletes:\n",
        "print(P1.striker_score)\n",
        "print(P2.defence_score)\n",
        "\n",
        "# We haven't called midfield score calculater function yet. So let's see what happens if we try to print midfield_score\n",
        "#print(P1.midfield_score)"
      ],
      "execution_count": 64,
      "outputs": [
        {
          "output_type": "stream",
          "text": [
            "88.8\n",
            "101.52\n"
          ],
          "name": "stdout"
        }
      ]
    },
    {
      "cell_type": "markdown",
      "metadata": {
        "id": "w_yREi-Eo0KA",
        "colab_type": "text"
      },
      "source": [
        "Each new data variable are defined only when we call the function which creates it. By now, our class has become too big. We can rewrite it in a short syntax like below:"
      ]
    },
    {
      "cell_type": "code",
      "metadata": {
        "id": "TNTleZJmCv2t",
        "colab_type": "code",
        "colab": {}
      },
      "source": [
        "class athlete:\n",
        "  name = None\n",
        "  age  = None\n",
        "  \n",
        "  stamina  = 0\n",
        "  speed    = 0\n",
        "  strength = 0\n",
        "  balance  = 0\n",
        "  agility  = 0\n",
        "  \n",
        "  def calculate_soccer_scores(self):\n",
        "    self.striker_score  = (40.*self.speed + 40.*self.agility + 20*self.balance)/100.\n",
        "    self.midfield_score = (30.*self.speed + 40.*self.stamina + 30*self.balance)/100.\n",
        "    self.defence_score  = (30.*self.speed + 30.*self.stamina + 40*self.strength)/100."
      ],
      "execution_count": 0,
      "outputs": []
    },
    {
      "cell_type": "code",
      "metadata": {
        "id": "DdXgQm2REeop",
        "colab_type": "code",
        "colab": {
          "base_uri": "https://localhost:8080/",
          "height": 70
        },
        "outputId": "85acdc9c-c317-4a76-cb56-227f25d947d1"
      },
      "source": [
        "# Now creating a class object\n",
        "P1 = athlete()\n",
        "# Creating another object\n",
        "P2 = athlete()\n",
        "\n",
        "# Now change their stored names and skills\n",
        "\n",
        "P1.name = \"Rapinoe\"\n",
        "P1.stamina  = 82\n",
        "P1.speed    = 95\n",
        "P1.strength = 60\n",
        "P1.balance  = 74\n",
        "P1.agility  = 90\n",
        "\n",
        "\n",
        "P2.name = \"Dunn\"\n",
        "P2.stamina  = 80\n",
        "P2.speed    = 78\n",
        "P2.strength = 93\n",
        "P2.balance  = 67\n",
        "P2.agility  = 70\n",
        "\n",
        "P1.calculate_soccer_scores()\n",
        "P2.calculate_soccer_scores()\n",
        "\n",
        "\n",
        "\n",
        "print(P1.striker_score)\n",
        "print(P2.defence_score)\n",
        "print(P1.midfield_score)"
      ],
      "execution_count": 38,
      "outputs": [
        {
          "output_type": "stream",
          "text": [
            "88.8\n",
            "84.6\n",
            "83.5\n"
          ],
          "name": "stdout"
        }
      ]
    },
    {
      "cell_type": "markdown",
      "metadata": {
        "id": "yzGgJaWmp8et",
        "colab_type": "text"
      },
      "source": [
        "We need to make this even simpler. Initializing each variable individually is a pain. To deal with that issue, there is a special function called *Constructor of a Class*. This *Constructor* is defined with a specially reserved name : ***init__***\n",
        "\n",
        "*Constructor * is called automatically when a Class object is created. So it can define variables and assign values, and call functions to create even more data."
      ]
    },
    {
      "cell_type": "code",
      "metadata": {
        "id": "W4To7czrp6vN",
        "colab_type": "code",
        "colab": {}
      },
      "source": [
        "class athlete:\n",
        "  \n",
        "  def __init__(self,name,age,initial_stamina,initial_speed,initial_strength,initial_balance,initial_agility):\n",
        "    name = name\n",
        "    age  = age\n",
        "    self.stamina  = initial_stamina\n",
        "    self.speed    = initial_speed\n",
        "    self.strength = initial_strength\n",
        "    self.balance  = initial_balance\n",
        "    self.agility  = initial_agility\n",
        "    \n",
        "    self.calculate_soccer_scores()\n",
        "  \n",
        "  def calculate_soccer_scores(self):\n",
        "    self.striker_score  = (40.*self.speed + 40.*self.agility + 20*self.balance)/100.\n",
        "    self.midfield_score = (30.*self.speed + 40.*self.stamina + 30*self.balance)/100.\n",
        "    self.defence_score  = (30.*self.speed + 30.*self.stamina + 40*self.strength)/100."
      ],
      "execution_count": 0,
      "outputs": []
    },
    {
      "cell_type": "code",
      "metadata": {
        "id": "kysnzer2reYT",
        "colab_type": "code",
        "colab": {
          "base_uri": "https://localhost:8080/",
          "height": 70
        },
        "outputId": "f349944c-9ea6-4e64-89b4-9bd2abb8a0db"
      },
      "source": [
        "# Creating a class object\n",
        "P1 = athlete(\"Rapinoe\",34,82,95,60,74,90)\n",
        "# Creating another object\n",
        "P2 = athlete(\"Dunn\",27,80,78,93,67,70)\n",
        "\n",
        "print(P1.striker_score)\n",
        "print(P2.defence_score)\n",
        "print(P1.midfield_score)"
      ],
      "execution_count": 40,
      "outputs": [
        {
          "output_type": "stream",
          "text": [
            "88.8\n",
            "84.6\n",
            "83.5\n"
          ],
          "name": "stdout"
        }
      ]
    },
    {
      "cell_type": "markdown",
      "metadata": {
        "id": "cAiQk9I1sbcb",
        "colab_type": "text"
      },
      "source": [
        "Now we can take our players for Olympic events. Their Track skills can be calulated by definining a new function:"
      ]
    },
    {
      "cell_type": "code",
      "metadata": {
        "id": "fyQYRIvQEeu4",
        "colab_type": "code",
        "colab": {}
      },
      "source": [
        "class athlete:\n",
        "  def __init__(self,name,age,initial_stamina,initial_speed,initial_strength,initial_balance,initial_agility):\n",
        "    name = name\n",
        "    age  = age\n",
        "    self.stamina  = initial_stamina\n",
        "    self.speed    = initial_speed\n",
        "    self.strength = initial_strength\n",
        "    self.balance  = initial_balance\n",
        "    self.agility  = initial_agility\n",
        "    \n",
        "    self.calculate_soccer_scores()\n",
        "  \n",
        "  def calculate_soccer_scores(self):\n",
        "    self.striker_score  = (40.*self.speed + 40.*self.agility + 20*self.balance)/100.\n",
        "    self.midfield_score = (30.*self.speed + 40.*self.stamina + 30*self.balance)/100.\n",
        "    self.defence_score  = (30.*self.speed + 30.*self.stamina + 40*self.strength)/100.\n",
        "    \n",
        "\n",
        "  def calculate_track_scores(self):\n",
        "    self.sprint_score    = (80.*self.speed + 10.*self.agility + 10*self.stamina)/100.\n",
        "    self.walk_score      = (30.*self.speed + 10.*self.balance + 60*self.stamina)/100.\n",
        "    self.marathon_score  = (20.*self.speed + 80.*self.stamina)/100.\n",
        "    self.jump_score      = (30.*self.speed + 50.*self.balance + 20*self.agility)/100.\n",
        "    \n",
        "    self.hurdles_score   = (60.*self.sprint_score + 40.*self.jump_score)/100.\n",
        "    self.relay_score     = (80.*self.sprint_score + 20.*self.balance)/100.\n",
        "    "
      ],
      "execution_count": 0,
      "outputs": []
    },
    {
      "cell_type": "code",
      "metadata": {
        "id": "B3Xtq-AvH718",
        "colab_type": "code",
        "colab": {
          "base_uri": "https://localhost:8080/",
          "height": 70
        },
        "outputId": "c268f344-dc12-48a5-a0fc-ed8e3cbe4956"
      },
      "source": [
        "# Creating a class object\n",
        "P1 = athlete(\"Rapinoe\",34,82,95,60,74,90)\n",
        "# Creating another object\n",
        "P2 = athlete(\"Dunn\",27,80,78,93,67,70)\n",
        "\n",
        "P1.calculate_track_scores()\n",
        "P2.calculate_track_scores()\n",
        "\n",
        "print(P1.sprint_score)\n",
        "print(P2.jump_score)\n",
        "print(P1.relay_score)"
      ],
      "execution_count": 43,
      "outputs": [
        {
          "output_type": "stream",
          "text": [
            "93.2\n",
            "70.9\n",
            "89.36\n"
          ],
          "name": "stdout"
        }
      ]
    },
    {
      "cell_type": "code",
      "metadata": {
        "id": "ZTaZbdbiH8A-",
        "colab_type": "code",
        "colab": {}
      },
      "source": [
        "class athlete:\n",
        "  def __init__(self,name,age,initial_stamina,initial_speed,initial_strength,initial_balance,initial_agility):\n",
        "    name = name\n",
        "    age  = age\n",
        "    self.stamina  = initial_stamina\n",
        "    self.speed    = initial_speed\n",
        "    self.strength = initial_strength\n",
        "    self.balance  = initial_balance\n",
        "    self.agility  = initial_agility\n",
        "    \n",
        "    self.calculate_soccer_scores()\n",
        "    self.calculate_track_scores()\n",
        "    self.calculate_sports_scores()\n",
        "  \n",
        "  def calculate_soccer_scores(self):\n",
        "    self.striker_score  = (40.*self.speed + 40.*self.agility + 20*self.balance)/100.\n",
        "    self.midfield_score = (30.*self.speed + 40.*self.stamina + 30*self.balance)/100.\n",
        "    self.defence_score  = (30.*self.speed + 30.*self.stamina + 40*self.strength)/100.\n",
        "    \n",
        "\n",
        "  def calculate_track_scores(self):\n",
        "    self.sprint_score    = (80.*self.speed + 10.*self.agility + 10*self.stamina)/100.\n",
        "    self.walk_score      = (30.*self.speed + 10.*self.balance + 60*self.stamina)/100.\n",
        "    self.marathon_score  = (20.*self.speed + 80.*self.stamina)/100.\n",
        "    self.jump_score      = (30.*self.speed + 50.*self.balance + 20*self.agility)/100.\n",
        "    \n",
        "    self.hurdles_score   = (60.*self.sprint_score + 40.*self.jump_score)/100.\n",
        "    self.relay_score     = (80.*self.sprint_score + 20.*self.balance)/100.\n",
        "    \n",
        "  def calculate_sports_scores(self):\n",
        "    # Edit these scores to calculate your player's skills\n",
        "    self.wrestling_score  = 0.\n",
        "    self.volleyball_score = 0.\n",
        "    self.gymnastics_score = 0."
      ],
      "execution_count": 0,
      "outputs": []
    },
    {
      "cell_type": "code",
      "metadata": {
        "id": "7asjMzofJGqS",
        "colab_type": "code",
        "colab": {}
      },
      "source": [
        "class athlete:\n",
        "  def __init__(self,name,age,initial_stamina,initial_speed,initial_strength,initial_balance,initial_agility):\n",
        "    name = name\n",
        "    age  = age\n",
        "    self.stamina  = initial_stamina\n",
        "    self.speed    = initial_speed\n",
        "    self.strength = initial_strength\n",
        "    self.balance  = initial_balance\n",
        "    self.agility  = initial_agility\n",
        "    \n",
        "    self.calculate_soccer_scores()\n",
        "    self.calculate_track_scores()\n",
        "    self.calculate_sports_scores()\n",
        "  \n",
        "  def calculate_soccer_scores(self):\n",
        "    self.striker_score  = (40.*self.speed + 40.*self.agility + 20*self.balance)/100.\n",
        "    self.midfield_score = (30.*self.speed + 40.*self.stamina + 30*self.balance)/100.\n",
        "    self.defence_score  = (30.*self.speed + 30.*self.stamina + 40*self.strength)/100.\n",
        "    \n",
        "\n",
        "  def calculate_track_scores(self):\n",
        "    self.sprint_score    = (80.*self.speed + 10.*self.agility + 10*self.stamina)/100.\n",
        "    self.walk_score      = (30.*self.speed + 10.*self.balance + 60*self.stamina)/100.\n",
        "    self.marathon_score  = (20.*self.speed + 80.*self.stamina)/100.\n",
        "    self.jump_score      = (30.*self.speed + 50.*self.balance + 20*self.agility)/100.\n",
        "    \n",
        "    self.hurdles_score   = (60.*self.sprint_score + 40.*self.jump_score)/100.\n",
        "    self.relay_score     = (80.*self.sprint_score + 20.*self.balance)/100.\n",
        "    \n",
        "  def calculate_sports_scores(self):\n",
        "    self.volley_score = (40*self.striker_score +60*self.jump_score)/100."
      ],
      "execution_count": 0,
      "outputs": []
    },
    {
      "cell_type": "code",
      "metadata": {
        "id": "hY_EDpQutd4z",
        "colab_type": "code",
        "colab": {
          "base_uri": "https://localhost:8080/",
          "height": 105
        },
        "outputId": "b8553d42-2204-4a8c-81ef-eacfe2097bdb"
      },
      "source": [
        "# Creating a class object\n",
        "P1 = athlete(\"Rapinoe\",34,82,95,60,74,90)\n",
        "# Creating another object\n",
        "P2 = athlete(\"Dunn\",27,80,78,93,67,70)\n",
        "\n",
        "P1.calculate_track_scores()\n",
        "P2.calculate_track_scores()\n",
        "\n",
        "print(P1.sprint_score)\n",
        "print(P2.jump_score)\n",
        "print(P1.relay_score)\n",
        "print(P1.volley_score)\n",
        "print(P2.volley_score)"
      ],
      "execution_count": 52,
      "outputs": [
        {
          "output_type": "stream",
          "text": [
            "93.2\n",
            "70.9\n",
            "89.36\n",
            "85.62\n",
            "71.58\n"
          ],
          "name": "stdout"
        }
      ]
    },
    {
      "cell_type": "markdown",
      "metadata": {
        "id": "onMxRbEguNTQ",
        "colab_type": "text"
      },
      "source": [
        "We need an upgraed function to increase players' skills - just like we do it in a computer game."
      ]
    },
    {
      "cell_type": "code",
      "metadata": {
        "id": "qC3lh1YCJ6b4",
        "colab_type": "code",
        "colab": {}
      },
      "source": [
        "class athlete:\n",
        "  def __init__(self,name,age,initial_stamina,initial_speed,initial_strength,initial_balance,initial_agility):\n",
        "    name = name\n",
        "    age  = age\n",
        "    self.stamina  = initial_stamina\n",
        "    self.speed    = initial_speed\n",
        "    self.strength = initial_strength\n",
        "    self.balance  = initial_balance\n",
        "    self.agility  = initial_agility\n",
        "    \n",
        "    self.calculate_soccer_scores()\n",
        "    self.calculate_track_scores()\n",
        "    self.calculate_sports_scores()\n",
        "  \n",
        "  def calculate_soccer_scores(self):\n",
        "    self.striker_score  = (40.*self.speed + 40.*self.agility + 20*self.balance)/100.\n",
        "    self.midfield_score = (30.*self.speed + 40.*self.stamina + 30*self.balance)/100.\n",
        "    self.defence_score  = (30.*self.speed + 30.*self.stamina + 40*self.strength)/100.\n",
        "    \n",
        "\n",
        "  def calculate_track_scores(self):\n",
        "    self.sprint_score    = (80.*self.speed + 10.*self.agility + 10*self.stamina)/100.\n",
        "    self.walk_score      = (30.*self.speed + 10.*self.balance + 60*self.stamina)/100.\n",
        "    self.marathon_score  = (20.*self.speed + 80.*self.stamina)/100.\n",
        "    self.jump_score      = (30.*self.speed + 50.*self.balance + 20*self.agility)/100.\n",
        "    \n",
        "    self.hurdles_score   = (60.*self.sprint_score + 40.*self.jump_score)/100.\n",
        "    self.relay_score     = (80.*self.sprint_score + 20.*self.balance)/100.\n",
        "    \n",
        "  def calculate_sports_scores(self):\n",
        "    self.volley_score = (20*self.striker_score + 50*self.jump_score + 30*self.stamina)/100.\n",
        "    \n",
        "    \n",
        "  def upgrade_level(self,number_levels):\n",
        "    self.stamina  = self.stamina * (100.+ (number_levels*20.))/100.\n",
        "    self.speed    = self.speed * (100.+ (number_levels*20.))/100.\n",
        "    self.strength = self.strength * (100.+ (number_levels*20.))/100.\n",
        "    self.balance  = self.balance * (100.+ (number_levels*20.))/100.\n",
        "    self.agility  = self.agility * (100.+ (number_levels*20.))/100.\n",
        "    \n",
        "    self.calculate_soccer_scores()\n",
        "    self.calculate_track_scores()\n",
        "    self.calculate_sports_scores()"
      ],
      "execution_count": 0,
      "outputs": []
    },
    {
      "cell_type": "code",
      "metadata": {
        "id": "ebWXTxrjT5XT",
        "colab_type": "code",
        "colab": {
          "base_uri": "https://localhost:8080/",
          "height": 105
        },
        "outputId": "4f34cf28-d695-45aa-f35d-7dd46f08b2d7"
      },
      "source": [
        "# Creating a class object\n",
        "P1 = athlete(\"Rapinoe\",34,82,95,60,74,90)\n",
        "# Creating another object\n",
        "P2 = athlete(\"Dunn\",27,80,78,93,67,70)\n",
        "\n",
        "P1.calculate_track_scores()\n",
        "P2.calculate_track_scores()\n",
        "\n",
        "print(P1.sprint_score)\n",
        "print(P2.jump_score)\n",
        "print(P1.relay_score)\n",
        "print(P1.volley_score)\n",
        "print(P2.volley_score)"
      ],
      "execution_count": 58,
      "outputs": [
        {
          "output_type": "stream",
          "text": [
            "93.2\n",
            "70.9\n",
            "89.36\n",
            "84.11\n",
            "73.97\n"
          ],
          "name": "stdout"
        }
      ]
    },
    {
      "cell_type": "code",
      "metadata": {
        "id": "9RHAO6Mgug8L",
        "colab_type": "code",
        "colab": {
          "base_uri": "https://localhost:8080/",
          "height": 105
        },
        "outputId": "6be9d316-eda7-488c-a414-7f45a8b222db"
      },
      "source": [
        "P2.upgrade_level(1)\n",
        "print(P1.sprint_score)\n",
        "print(P2.jump_score)\n",
        "print(P1.relay_score)\n",
        "print(P1.volley_score)\n",
        "print(P2.volley_score)"
      ],
      "execution_count": 59,
      "outputs": [
        {
          "output_type": "stream",
          "text": [
            "93.2\n",
            "85.08\n",
            "89.36\n",
            "84.11\n",
            "88.764\n"
          ],
          "name": "stdout"
        }
      ]
    },
    {
      "cell_type": "markdown",
      "metadata": {
        "id": "ChAky5Z-T6dm",
        "colab_type": "text"
      },
      "source": [
        "---\n",
        "\n",
        "Look closely at the order of score updating, and calling of calculation functions within upgrade function\n",
        "\n",
        "\n",
        "---\n"
      ]
    },
    {
      "cell_type": "code",
      "metadata": {
        "id": "eSa7NLnWUCDd",
        "colab_type": "code",
        "colab": {
          "base_uri": "https://localhost:8080/",
          "height": 282
        },
        "outputId": "c7c27595-74af-4cbc-e913-702e517d0f89"
      },
      "source": [
        "# Extra tip: A simple way to print all attributes (i.e.; variables) defined in a class\n",
        "vars(P1)"
      ],
      "execution_count": 63,
      "outputs": [
        {
          "output_type": "execute_result",
          "data": {
            "text/plain": [
              "{'agility': 90,\n",
              " 'balance': 74,\n",
              " 'defence_score': 77.1,\n",
              " 'hurdles_score': 89.32,\n",
              " 'jump_score': 83.5,\n",
              " 'marathon_score': 84.6,\n",
              " 'midfield_score': 83.5,\n",
              " 'relay_score': 89.36,\n",
              " 'speed': 95,\n",
              " 'sprint_score': 93.2,\n",
              " 'stamina': 82,\n",
              " 'strength': 60,\n",
              " 'striker_score': 88.8,\n",
              " 'volley_score': 84.11,\n",
              " 'walk_score': 85.1}"
            ]
          },
          "metadata": {
            "tags": []
          },
          "execution_count": 63
        }
      ]
    },
    {
      "cell_type": "markdown",
      "metadata": {
        "id": "MN-83QrlGL2M",
        "colab_type": "text"
      },
      "source": [
        "# Class Inheritance\n",
        "### Cars with Classes!\n",
        "\n",
        "Seen the Pixar movie Cars? The objects being shown in it (i.e.; the cars) can be represented using Classes.\n",
        "\n",
        "Classes are widely used in animation and graphics!"
      ]
    },
    {
      "cell_type": "code",
      "metadata": {
        "id": "KOtxU4tfGihI",
        "colab_type": "code",
        "colab": {}
      },
      "source": [
        "class Cars:\n",
        "  def __init__(self,name,model,power,speed):\n",
        "    self.name   = name\n",
        "    self.model  = model\n",
        "    self.power  = power\n",
        "    self.speed  = speed\n",
        "    self.colors = []\n",
        "    \n",
        "  def add_colors(self,color_name):\n",
        "    # Add colors and sort the list by name\n",
        "    self.colors = self.colors.append(color_name)\n",
        "    self.colors = sorted(self.colors)"
      ],
      "execution_count": 0,
      "outputs": []
    },
    {
      "cell_type": "markdown",
      "metadata": {
        "id": "pmSsbBVoPP4o",
        "colab_type": "text"
      },
      "source": [
        "Now two subclasses."
      ]
    },
    {
      "cell_type": "code",
      "metadata": {
        "id": "RX2glYxhPNt-",
        "colab_type": "code",
        "colab": {}
      },
      "source": [
        "class Characters(Cars):\n",
        "  def __init__(self,name,model,power,speed,level,voice):\n",
        "    self.level = level\n",
        "    self.voice = voice\n",
        "    Cars.__init__(self,name,model,power,speed)\n",
        "    \n",
        "  def level_change(self,num_levels):\n",
        "    self.level = self.level+num_levels\n",
        "    self.power = self.power * ((100. + (10.*num_levels))/100)\n",
        "    self.speed = self.speed * ((100. + (10.*num_levels))/100)\n",
        "    \n",
        "    \n",
        "    \n",
        "    \n",
        "class Extras(Cars):\n",
        "  def __init__(self,name,model,power,speed,noise):\n",
        "    \n",
        "    self.noise = noise\n",
        "    \n",
        "  def change_model(self,new_model):\n",
        "    if self.model == new_model:\n",
        "      print(\"enter a different model\")\n",
        "      \n",
        "    else:\n",
        "      self.model = new_model"
      ],
      "execution_count": 0,
      "outputs": []
    },
    {
      "cell_type": "code",
      "metadata": {
        "id": "pstP-AVsRZtF",
        "colab_type": "code",
        "colab": {}
      },
      "source": [
        ""
      ],
      "execution_count": 0,
      "outputs": []
    },
    {
      "cell_type": "code",
      "metadata": {
        "id": "LjrgSbmqNkxz",
        "colab_type": "code",
        "colab": {}
      },
      "source": [
        ""
      ],
      "execution_count": 0,
      "outputs": []
    },
    {
      "cell_type": "code",
      "metadata": {
        "id": "_g-PfWlHNk1G",
        "colab_type": "code",
        "colab": {}
      },
      "source": [
        ""
      ],
      "execution_count": 0,
      "outputs": []
    },
    {
      "cell_type": "code",
      "metadata": {
        "id": "EHAy4a4JNk-J",
        "colab_type": "code",
        "colab": {}
      },
      "source": [
        ""
      ],
      "execution_count": 0,
      "outputs": []
    },
    {
      "cell_type": "markdown",
      "metadata": {
        "id": "3INhW2QDPpA6",
        "colab_type": "text"
      },
      "source": [
        "# Class Encapsulation\n",
        "### A secret note-taker.\n"
      ]
    },
    {
      "cell_type": "code",
      "metadata": {
        "id": "uRMWflO6NlHq",
        "colab_type": "code",
        "colab": {}
      },
      "source": [
        "class Notes:\n",
        "  def __init__(self,name,password):\n",
        "    self.Notebook_name = name\n",
        "    self.open_notes = []\n",
        "    self.__secret_notes = []\n",
        "    self.__password = password\n",
        "    \n",
        "  def add_open_note(self,note):\n",
        "    self.open_notes.append(note)\n",
        "    \n",
        "  def add_secret_note(self,note,password):\n",
        "    if self.__password == password:\n",
        "      self.__secret_notes.append(note)\n",
        "      \n",
        "  def view_secret_note(self,password):\n",
        "    if self.__password == password:\n",
        "      print(__secret_notes.append(note))\n",
        "    \n",
        "    "
      ],
      "execution_count": 0,
      "outputs": []
    },
    {
      "cell_type": "code",
      "metadata": {
        "id": "qIlDtwIjQUjR",
        "colab_type": "code",
        "colab": {}
      },
      "source": [
        ""
      ],
      "execution_count": 0,
      "outputs": []
    },
    {
      "cell_type": "code",
      "metadata": {
        "id": "oTFqqQQQQVE-",
        "colab_type": "code",
        "colab": {}
      },
      "source": [
        ""
      ],
      "execution_count": 0,
      "outputs": []
    },
    {
      "cell_type": "markdown",
      "metadata": {
        "id": "mYfRRSkuQV7d",
        "colab_type": "text"
      },
      "source": [
        "# Nested Classes\n",
        "\n"
      ]
    },
    {
      "cell_type": "code",
      "metadata": {
        "id": "3Dhu2ymbSMna",
        "colab_type": "code",
        "colab": {}
      },
      "source": [
        "class Person:\n",
        "  def __init__(self,owner_name,license_number):\n",
        "    self.owner = owner_name\n",
        "    self.license = license_number\n",
        "    \n",
        "    \n",
        "class Vehicle:\n",
        "  def __init__(self,category,registration_number,owner_name,license_number):\n",
        "    self.category = category\n",
        "    self.registration = registration_number\n",
        "    self.owner = Person(owner_name,license_number)\n",
        "    \n",
        "    "
      ],
      "execution_count": 0,
      "outputs": []
    },
    {
      "cell_type": "markdown",
      "metadata": {
        "id": "9Jrerqw70AOQ",
        "colab_type": "text"
      },
      "source": [
        "Wanna see where Classes are used?\n",
        "Check this out: https://github.com/tensorflow/tensorflow/blob/master/tensorflow/python/training/adam.py\n",
        "\n",
        "Ever talked to your phone with \"OK Google\" or used one of the cool Snapchatfilters? \n",
        "If yes, you may thank this class!! \n",
        "\n",
        "Some of the biggest Artificial Intelligence machines in the world uses this class. But don't be afraid, you might be able to spot some familiar concepts in this script now: initializations, variables, methods, Inheritance, ...? "
      ]
    },
    {
      "cell_type": "code",
      "metadata": {
        "id": "POc6lR913K4r",
        "colab_type": "code",
        "colab": {}
      },
      "source": [
        ""
      ],
      "execution_count": 0,
      "outputs": []
    }
  ]
}