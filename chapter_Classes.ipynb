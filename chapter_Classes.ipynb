{
  "nbformat": 4,
  "nbformat_minor": 0,
  "metadata": {
    "colab": {
      "name": "chapter_Classes",
      "version": "0.3.2",
      "provenance": [],
      "collapsed_sections": [],
      "include_colab_link": true
    },
    "kernelspec": {
      "name": "python3",
      "display_name": "Python 3"
    }
  },
  "cells": [
    {
      "cell_type": "markdown",
      "metadata": {
        "id": "view-in-github",
        "colab_type": "text"
      },
      "source": [
        "<a href=\"https://colab.research.google.com/github/tachyontraveler/DataSciNights/blob/master/chapter_Classes.ipynb\" target=\"_parent\"><img src=\"https://colab.research.google.com/assets/colab-badge.svg\" alt=\"Open In Colab\"/></a>"
      ]
    },
    {
      "cell_type": "markdown",
      "metadata": {
        "id": "9zjTbHBFuw1K",
        "colab_type": "text"
      },
      "source": [
        "# An Olympics for the US National Soccer Team!\n",
        "\n",
        "![alt text](https://cdn.ussoccer.com/-/jssmedia/project/ussf/2019-stories/07/wntvned/wntvnedlineupp1.ashx?mw=2560&rev=c94a069f94cdea0dac57f7f726706b25)"
      ]
    },
    {
      "cell_type": "markdown",
      "metadata": {
        "id": "RfjwttgW4lwJ",
        "colab_type": "text"
      },
      "source": [
        "Wanna learn how they create digital version of players for your computer games? None of the datastructures that you've already learned in this course can represent a real player in its entirety. For that purpose, we need a higher level datastructures which groups together several of other datastructures. \n",
        "\n",
        "Here, our goal is to implement a system which can fully represent an athlete with \n",
        "\n",
        "* Variables to store data about their\n",
        "  1. Speed\n",
        "  2. Stamina\n",
        "  3. Strength\n",
        "  4. Balance\n",
        "  5. Agility\n",
        "\n",
        "* Calculate data about their game skills. Examples below:\n",
        "  1. Soccer: Defence skill\n",
        "  2. Soccer: Striker Skill\n",
        "  3. Soccer: Midfileder Skill \n",
        "  4. Track Skills for Olympics (Sprint, Walk, Marathon, ...)\n",
        "  5. Field Skills for some of the Olympic games (Volleyball, ...)\n",
        "\n",
        "* A method to upgrade game levels for each player when needed\n",
        "  1. Need a function to update skills and physical attributes\n",
        "  2. It should take only the number of change in levels as input\n",
        "  "
      ]
    },
    {
      "cell_type": "markdown",
      "metadata": {
        "id": "7M_0KDeHut0d",
        "colab_type": "text"
      },
      "source": [
        "\n",
        "\n",
        "\n",
        "## Object Oriented Programming (OOP)\n",
        "OOP is a style of programming widely accepted and used in the world right now. It is implemented in several coding languages but they all have same underlying concepts.\n",
        "1. Attributes (Variables storing data values)\n",
        "2. Methods (Functions)\n",
        "3. Abstraction (Make processes simpler for the final user)\n",
        "4. Inheritance (Re-use code made for related classes)\n",
        "5. Encapsulation (Optionally store public and private data)\n",
        "\n",
        "In most languages, the OOP is implemented using Classes. There are two main steps in this process:\n",
        "1. Class declaration\n",
        "2. Class object creation\n"
      ]
    },
    {
      "cell_type": "code",
      "metadata": {
        "id": "FjKO1i1ipPcw",
        "colab_type": "code",
        "colab": {}
      },
      "source": [
        "# Here we are declaring a class with some data in it\n",
        "class athlete:\n",
        "  name = None\n",
        "  age  = None\n",
        "  \n",
        "  stamina  = 0\n",
        "  speed    = 0\n",
        "  strength = 0\n",
        "  balance  = 0\n",
        "  agility  = 0"
      ],
      "execution_count": 0,
      "outputs": []
    },
    {
      "cell_type": "code",
      "metadata": {
        "id": "RwdUPvYyjNri",
        "colab_type": "code",
        "colab": {}
      },
      "source": [
        "# Now creating a class object\n",
        "P1 = athlete()\n",
        "# Creating another object\n",
        "P2 = athlete()"
      ],
      "execution_count": 0,
      "outputs": []
    },
    {
      "cell_type": "code",
      "metadata": {
        "id": "CZ1MNTDGjO1n",
        "colab_type": "code",
        "outputId": "57a910a5-04dd-405c-b32b-dd07322492e3",
        "colab": {
          "base_uri": "https://localhost:8080/",
          "height": 70
        }
      },
      "source": [
        "# Print some of the data stored for players\n",
        "print(P1.name)\n",
        "print(P2.strength)\n",
        "print(P2.stamina)"
      ],
      "execution_count": 21,
      "outputs": [
        {
          "output_type": "stream",
          "text": [
            "None\n",
            "0\n",
            "0\n"
          ],
          "name": "stdout"
        }
      ]
    },
    {
      "cell_type": "code",
      "metadata": {
        "id": "vucSBl4PjnOU",
        "colab_type": "code",
        "colab": {}
      },
      "source": [
        "# Now change their stored names and skills\n",
        "\n",
        "P1.name = \"Rapinoe\"\n",
        "P1.speed   = 90\n",
        "P1.stamina = 50\n",
        "\n",
        "\n",
        "P2.name = \"Dunn\"\n",
        "P2.speed    = 60\n",
        "P2.strength = 80"
      ],
      "execution_count": 0,
      "outputs": []
    },
    {
      "cell_type": "code",
      "metadata": {
        "id": "mssToZ2ikZaG",
        "colab_type": "code",
        "outputId": "2fe1aaed-3dd6-4c51-cc46-d8e62dab27a3",
        "colab": {
          "base_uri": "https://localhost:8080/",
          "height": 70
        }
      },
      "source": [
        "# Print some of the data stored for players again\n",
        "print(P1.name)\n",
        "print(P2.strength)\n",
        "print(P2.stamina)"
      ],
      "execution_count": 23,
      "outputs": [
        {
          "output_type": "stream",
          "text": [
            "Rapinoe\n",
            "80\n",
            "0\n"
          ],
          "name": "stdout"
        }
      ]
    },
    {
      "cell_type": "markdown",
      "metadata": {
        "id": "Hd346KN4iUkT",
        "colab_type": "text"
      },
      "source": [
        "But this is not enough. Now we need to calculate some more data based on the given data for each class. First, let's define a few functions within the class to return calculated values."
      ]
    },
    {
      "cell_type": "code",
      "metadata": {
        "id": "P43K-QGy-zeH",
        "colab_type": "code",
        "colab": {}
      },
      "source": [
        "class athlete:\n",
        "  name = None\n",
        "  age  = None\n",
        "  \n",
        "  stamina  = 0\n",
        "  speed    = 0\n",
        "  strength = 0\n",
        "  balance  = 0\n",
        "  agility  = 0\n",
        "  \n",
        "  def calculate_striker(self):\n",
        "    striker_score  = (40.*self.speed + 40.*self.agility + 20*self.balance)/100.\n",
        "    return striker_score\n",
        "  \n",
        "  def calculate_midfield(self):\n",
        "    midfield_score = (30.*self.speed + 40.*self.stamina + 30*self.balance)/100.\n",
        "    return midfield_score\n",
        "  \n",
        "  def calculate_defence(self):\n",
        "    defence_score  = (30.*self.speed + 30.*self.stamina + 40*self.strength)/100.\n",
        "    return defence_score"
      ],
      "execution_count": 0,
      "outputs": []
    },
    {
      "cell_type": "code",
      "metadata": {
        "id": "4vHZhHmhCgDR",
        "colab_type": "code",
        "colab": {
          "base_uri": "https://localhost:8080/",
          "height": 88
        },
        "outputId": "4edacc52-2d9a-428d-d885-23bc0830ea7a"
      },
      "source": [
        "# Now creating a class object\n",
        "P1 = athlete()\n",
        "# Creating another object\n",
        "P2 = athlete()\n",
        "\n",
        "# Now change their stored names and skills\n",
        "\n",
        "P1.name = \"Rapinoe\"\n",
        "P1.stamina  = 82\n",
        "P1.speed    = 95\n",
        "P1.strength = 60\n",
        "P1.balance  = 74\n",
        "P1.agility  = 90\n",
        "\n",
        "\n",
        "P2.name = \"Dunn\"\n",
        "P2.stamina  = 80\n",
        "P2.speed    = 78\n",
        "P2.strength = 93\n",
        "P2.balance  = 67\n",
        "P2.agility  = 70\n",
        "\n",
        "print(P1.calculate_defence())\n",
        "print(P2.calculate_defence())\n",
        "\n",
        "print(P1.calculate_striker())\n",
        "print(P2.calculate_striker())"
      ],
      "execution_count": 32,
      "outputs": [
        {
          "output_type": "stream",
          "text": [
            "77.1\n",
            "84.6\n",
            "88.8\n",
            "72.6\n"
          ],
          "name": "stdout"
        }
      ]
    },
    {
      "cell_type": "code",
      "metadata": {
        "id": "fMNNl9DVnie9",
        "colab_type": "code",
        "colab": {}
      },
      "source": [
        ""
      ],
      "execution_count": 0,
      "outputs": []
    },
    {
      "cell_type": "markdown",
      "metadata": {
        "id": "v68zUDVAni3p",
        "colab_type": "text"
      },
      "source": [
        "Even this is not enough. We need to store these calculated values somehwhere in the players' Class objects. To do that, we can use a tag called *self*"
      ]
    },
    {
      "cell_type": "code",
      "metadata": {
        "id": "Q9DvyhFFCggy",
        "colab_type": "code",
        "colab": {}
      },
      "source": [
        "class athlete:\n",
        "  name = None\n",
        "  age  = None\n",
        "  \n",
        "  stamina  = 0\n",
        "  speed    = 0\n",
        "  strength = 0\n",
        "  balance  = 0\n",
        "  agility  = 0\n",
        "  \n",
        "  def calculate_striker(self):\n",
        "    self.striker_score  = (40.*self.speed + 40.*self.agility + 20*self.balance)/100.\n",
        "  \n",
        "  def calculate_midfield(self):\n",
        "    self.midfield_score = (30.*self.speed + 40.*self.stamina + 30*self.balance)/100.\n",
        "  \n",
        "  def calculate_defence(self):\n",
        "    self.defence_score  = (30.*self.speed + 30.*self.stamina + 40*self.strength)/100."
      ],
      "execution_count": 0,
      "outputs": []
    },
    {
      "cell_type": "code",
      "metadata": {
        "id": "kUWSqzlGCvq9",
        "colab_type": "code",
        "colab": {}
      },
      "source": [
        "# Now creating a class object\n",
        "P1 = athlete()\n",
        "# Creating another object\n",
        "P2 = athlete()\n",
        "\n",
        "# Now change their stored names and skills\n",
        "\n",
        "P1.name = \"Rapinoe\"\n",
        "P1.stamina  = 82\n",
        "P1.speed    = 95\n",
        "P1.strength = 60\n",
        "P1.balance  = 74\n",
        "P1.agility  = 90\n",
        "\n",
        "\n",
        "P2.name = \"Dunn\"\n",
        "P2.stamina  = 80\n",
        "P2.speed    = 78\n",
        "P2.strength = 93\n",
        "P2.balance  = 67\n",
        "P2.agility  = 70\n",
        "\n",
        "P1.calculate_defence()\n",
        "P2.calculate_defence()\n",
        "P1.calculate_striker()\n",
        "P2.calculate_striker()"
      ],
      "execution_count": 0,
      "outputs": []
    },
    {
      "cell_type": "code",
      "metadata": {
        "id": "Vb_ote-WoUp3",
        "colab_type": "code",
        "colab": {
          "base_uri": "https://localhost:8080/",
          "height": 52
        },
        "outputId": "a2bd3d94-ac5e-4d8a-d992-9b14315a748b"
      },
      "source": [
        "# Now print the strike and defence scores for athletes:\n",
        "print(P1.striker_score)\n",
        "print(P2.defence_score)\n",
        "\n",
        "# We haven't called midfield score calculater function yet. So let's see what happens if we try to print midfield_score\n",
        "#print(P1.midfield_score)"
      ],
      "execution_count": 42,
      "outputs": [
        {
          "output_type": "stream",
          "text": [
            "88.8\n",
            "84.6\n"
          ],
          "name": "stdout"
        }
      ]
    },
    {
      "cell_type": "markdown",
      "metadata": {
        "id": "w_yREi-Eo0KA",
        "colab_type": "text"
      },
      "source": [
        "Each new data variable are defined only when we call the function which creates it. By now, our class has become too big. We can rewrite it in a short syntax like below:"
      ]
    },
    {
      "cell_type": "code",
      "metadata": {
        "id": "TNTleZJmCv2t",
        "colab_type": "code",
        "colab": {}
      },
      "source": [
        "class athlete:\n",
        "  name = None\n",
        "  age  = None\n",
        "  \n",
        "  stamina  = 0\n",
        "  speed    = 0\n",
        "  strength = 0\n",
        "  balance  = 0\n",
        "  agility  = 0\n",
        "  \n",
        "  def calculate_soccer_scores(self):\n",
        "    self.striker_score  = (40.*self.speed + 40.*self.agility + 20*self.balance)/100.\n",
        "    self.midfield_score = (30.*self.speed + 40.*self.stamina + 30*self.balance)/100.\n",
        "    self.defence_score  = (30.*self.speed + 30.*self.stamina + 40*self.strength)/100."
      ],
      "execution_count": 0,
      "outputs": []
    },
    {
      "cell_type": "code",
      "metadata": {
        "id": "DdXgQm2REeop",
        "colab_type": "code",
        "colab": {
          "base_uri": "https://localhost:8080/",
          "height": 267
        },
        "outputId": "bd7ac84c-f24c-4194-d1ea-482779235d81"
      },
      "source": [
        "# Now creating a class object\n",
        "P1 = athlete()\n",
        "# Creating another object\n",
        "P2 = athlete()\n",
        "\n",
        "# Now change their stored names and skills\n",
        "\n",
        "P1.name = \"Rapinoe\"\n",
        "P1.stamina  = 82\n",
        "P1.speed    = 95\n",
        "P1.strength = 60\n",
        "P1.balance  = 74\n",
        "P1.agility  = 90\n",
        "\n",
        "\n",
        "P2.name = \"Dunn\"\n",
        "P2.stamina  = 80\n",
        "P2.speed    = 78\n",
        "P2.strength = 93\n",
        "P2.balance  = 67\n",
        "P2.agility  = 70\n",
        "\n",
        "P1.calculate_soccer_scores()\n",
        "P2.calculate_soccer_scores()\n",
        "\n",
        "\n",
        "\n",
        "print(P1.striker_score)\n",
        "print(P2.defence_score)\n",
        "print(P1.midfield_score)\n",
        "\n",
        "# Here is another way to show all the data shown in a class object\n",
        "print(\"\\n\")\n",
        "print(\"P1\")\n",
        "print(vars(P1))\n",
        "print(\"\\n\")\n",
        "print(\"P2\")\n",
        "print(vars(P2))\n",
        "print(\"\\n\")"
      ],
      "execution_count": 43,
      "outputs": [
        {
          "output_type": "stream",
          "text": [
            "88.8\n",
            "84.6\n",
            "83.5\n",
            "\n",
            "\n",
            "P1\n",
            "{'name': 'Rapinoe', 'stamina': 82, 'speed': 95, 'strength': 60, 'balance': 74, 'agility': 90, 'striker_score': 88.8, 'midfield_score': 83.5, 'defence_score': 77.1}\n",
            "\n",
            "\n",
            "P2\n",
            "{'name': 'Dunn', 'stamina': 80, 'speed': 78, 'strength': 93, 'balance': 67, 'agility': 70, 'striker_score': 72.6, 'midfield_score': 75.5, 'defence_score': 84.6}\n",
            "\n",
            "\n"
          ],
          "name": "stdout"
        }
      ]
    },
    {
      "cell_type": "markdown",
      "metadata": {
        "id": "yzGgJaWmp8et",
        "colab_type": "text"
      },
      "source": [
        "We need to make this even simpler. Initializing each variable individually is a pain. To deal with that issue, there is a special function called *Constructor of a Class*. This *Constructor* is defined with a specially reserved name : ***init__***\n",
        "\n",
        "The *Constructor* is called automatically when a Class object is created. So it can define variables and assign values, and call functions to create even more data."
      ]
    },
    {
      "cell_type": "code",
      "metadata": {
        "id": "W4To7czrp6vN",
        "colab_type": "code",
        "colab": {}
      },
      "source": [
        "class athlete:\n",
        "  \n",
        "  def __init__(self,name,age,initial_stamina,initial_speed,initial_strength,initial_balance,initial_agility):\n",
        "    name = name\n",
        "    age  = age\n",
        "    self.stamina  = initial_stamina\n",
        "    self.speed    = initial_speed\n",
        "    self.strength = initial_strength\n",
        "    self.balance  = initial_balance\n",
        "    self.agility  = initial_agility\n",
        "    \n",
        "    self.calculate_soccer_scores()\n",
        "  \n",
        "  def calculate_soccer_scores(self):\n",
        "    self.striker_score  = (40.*self.speed + 40.*self.agility + 20*self.balance)/100.\n",
        "    self.midfield_score = (30.*self.speed + 40.*self.stamina + 30*self.balance)/100.\n",
        "    self.defence_score  = (30.*self.speed + 30.*self.stamina + 40*self.strength)/100."
      ],
      "execution_count": 0,
      "outputs": []
    },
    {
      "cell_type": "code",
      "metadata": {
        "id": "kysnzer2reYT",
        "colab_type": "code",
        "colab": {
          "base_uri": "https://localhost:8080/",
          "height": 178
        },
        "outputId": "024f9cbe-67f6-4b80-be62-0ac7d5f708d7"
      },
      "source": [
        "# Creating a class object\n",
        "P1 = athlete(\"Rapinoe\",34,82,95,60,74,90)\n",
        "# Creating another object\n",
        "P2 = athlete(\"Dunn\",27,80,78,93,67,70)\n",
        "\n",
        "print(\"\\n\")\n",
        "print(\"P1\")\n",
        "print(vars(P1))\n",
        "print(\"\\n\")\n",
        "print(\"P2\")\n",
        "print(vars(P2))\n",
        "print(\"\\n\")"
      ],
      "execution_count": 37,
      "outputs": [
        {
          "output_type": "stream",
          "text": [
            "P1\n",
            "{'stamina': 82, 'speed': 95, 'strength': 60, 'balance': 74, 'agility': 90, 'striker_score': 88.8, 'midfield_score': 83.5, 'defence_score': 77.1, 'sprint_score': 93.2, 'walk_score': 85.1, 'marathon_score': 84.6, 'jump_score': 83.5, 'hurdles_score': 89.32, 'relay_score': 89.36, 'volley_score': 84.11}\n",
            "\n",
            "\n",
            "P2\n",
            "{'stamina': 80, 'speed': 78, 'strength': 93, 'balance': 67, 'agility': 70, 'striker_score': 72.6, 'midfield_score': 75.5, 'defence_score': 84.6, 'sprint_score': 77.4, 'walk_score': 78.1, 'marathon_score': 79.6, 'jump_score': 70.9, 'hurdles_score': 74.8, 'relay_score': 75.32, 'volley_score': 73.97}\n",
            "\n",
            "\n"
          ],
          "name": "stdout"
        }
      ]
    },
    {
      "cell_type": "markdown",
      "metadata": {
        "id": "cAiQk9I1sbcb",
        "colab_type": "text"
      },
      "source": [
        "Now we can take our players for Olympic events. Their Track skills can be calulated by definining a new function:"
      ]
    },
    {
      "cell_type": "code",
      "metadata": {
        "id": "fyQYRIvQEeu4",
        "colab_type": "code",
        "colab": {}
      },
      "source": [
        "class athlete:\n",
        "  def __init__(self,name,age,initial_stamina,initial_speed,initial_strength,initial_balance,initial_agility):\n",
        "    name = name\n",
        "    age  = age\n",
        "    self.stamina  = initial_stamina\n",
        "    self.speed    = initial_speed\n",
        "    self.strength = initial_strength\n",
        "    self.balance  = initial_balance\n",
        "    self.agility  = initial_agility\n",
        "    \n",
        "    self.calculate_soccer_scores()\n",
        "  \n",
        "  def calculate_soccer_scores(self):\n",
        "    self.striker_score  = (40.*self.speed + 40.*self.agility + 20*self.balance)/100.\n",
        "    self.midfield_score = (30.*self.speed + 40.*self.stamina + 30*self.balance)/100.\n",
        "    self.defence_score  = (30.*self.speed + 30.*self.stamina + 40*self.strength)/100.\n",
        "    \n",
        "\n",
        "  def calculate_track_scores(self):\n",
        "    self.sprint_score    = (80.*self.speed + 10.*self.agility + 10*self.stamina)/100.\n",
        "    self.walk_score      = (30.*self.speed + 10.*self.balance + 60*self.stamina)/100.\n",
        "    self.marathon_score  = (20.*self.speed + 80.*self.stamina)/100.\n",
        "    self.jump_score      = (30.*self.speed + 50.*self.balance + 20*self.agility)/100.\n",
        "    \n",
        "    self.hurdles_score   = (60.*self.sprint_score + 40.*self.jump_score)/100.\n",
        "    self.relay_score     = (80.*self.sprint_score + 20.*self.balance)/100.\n",
        "    "
      ],
      "execution_count": 0,
      "outputs": []
    },
    {
      "cell_type": "code",
      "metadata": {
        "id": "B3Xtq-AvH718",
        "colab_type": "code",
        "colab": {
          "base_uri": "https://localhost:8080/",
          "height": 214
        },
        "outputId": "94bb3105-39bb-4be7-cfd6-d693e5dc4b96"
      },
      "source": [
        "# Creating a class object\n",
        "P1 = athlete(\"Rapinoe\",34,82,95,60,74,90)\n",
        "# Creating another object\n",
        "P2 = athlete(\"Dunn\",27,80,78,93,67,70)\n",
        "\n",
        "P1.calculate_track_scores()\n",
        "P2.calculate_track_scores()\n",
        "\n",
        "print(P2.jump_score)\n",
        "print(P1.relay_score)\n",
        "\n",
        "print(\"\\n\")\n",
        "print(\"P1\")\n",
        "print(vars(P1))\n",
        "print(\"\\n\")\n",
        "print(\"P2\")\n",
        "print(vars(P2))"
      ],
      "execution_count": 35,
      "outputs": [
        {
          "output_type": "stream",
          "text": [
            "70.9\n",
            "89.36\n",
            "\n",
            "\n",
            "P1\n",
            "{'stamina': 82, 'speed': 95, 'strength': 60, 'balance': 74, 'agility': 90, 'striker_score': 88.8, 'midfield_score': 83.5, 'defence_score': 77.1, 'sprint_score': 93.2, 'walk_score': 85.1, 'marathon_score': 84.6, 'jump_score': 83.5, 'hurdles_score': 89.32, 'relay_score': 89.36, 'volley_score': 84.11}\n",
            "\n",
            "\n",
            "P2\n",
            "{'stamina': 80, 'speed': 78, 'strength': 93, 'balance': 67, 'agility': 70, 'striker_score': 72.6, 'midfield_score': 75.5, 'defence_score': 84.6, 'sprint_score': 77.4, 'walk_score': 78.1, 'marathon_score': 79.6, 'jump_score': 70.9, 'hurdles_score': 74.8, 'relay_score': 75.32, 'volley_score': 73.97}\n"
          ],
          "name": "stdout"
        }
      ]
    },
    {
      "cell_type": "code",
      "metadata": {
        "id": "ZTaZbdbiH8A-",
        "colab_type": "code",
        "colab": {}
      },
      "source": [
        "class athlete:\n",
        "  def __init__(self,name,age,initial_stamina,initial_speed,initial_strength,initial_balance,initial_agility):\n",
        "    name = name\n",
        "    age  = age\n",
        "    self.stamina  = initial_stamina\n",
        "    self.speed    = initial_speed\n",
        "    self.strength = initial_strength\n",
        "    self.balance  = initial_balance\n",
        "    self.agility  = initial_agility\n",
        "    \n",
        "    self.calculate_soccer_scores()\n",
        "    self.calculate_track_scores()\n",
        "    self.calculate_sports_scores()\n",
        "  \n",
        "  def calculate_soccer_scores(self):\n",
        "    self.striker_score  = (40.*self.speed + 40.*self.agility + 20*self.balance)/100.\n",
        "    self.midfield_score = (30.*self.speed + 40.*self.stamina + 30*self.balance)/100.\n",
        "    self.defence_score  = (30.*self.speed + 30.*self.stamina + 40*self.strength)/100.\n",
        "    \n",
        "\n",
        "  def calculate_track_scores(self):\n",
        "    self.sprint_score    = (80.*self.speed + 10.*self.agility + 10*self.stamina)/100.\n",
        "    self.walk_score      = (30.*self.speed + 10.*self.balance + 60*self.stamina)/100.\n",
        "    self.marathon_score  = (20.*self.speed + 80.*self.stamina)/100.\n",
        "    self.jump_score      = (30.*self.speed + 50.*self.balance + 20*self.agility)/100.\n",
        "    \n",
        "    self.hurdles_score   = (60.*self.sprint_score + 40.*self.jump_score)/100.\n",
        "    self.relay_score     = (80.*self.sprint_score + 20.*self.balance)/100.\n",
        "    \n",
        "  def calculate_sports_scores(self):\n",
        "    # Edit these scores to calculate your player's skills\n",
        "    self.wrestling_score  = 0.\n",
        "    self.volleyball_score = 0.\n",
        "    self.gymnastics_score = 0."
      ],
      "execution_count": 0,
      "outputs": []
    },
    {
      "cell_type": "markdown",
      "metadata": {
        "id": "nKcl6Znc5Ii2",
        "colab_type": "text"
      },
      "source": [
        "Adding volleyball game skill as an example. You may edit it to have a different score(s)."
      ]
    },
    {
      "cell_type": "code",
      "metadata": {
        "id": "7asjMzofJGqS",
        "colab_type": "code",
        "colab": {}
      },
      "source": [
        "class athlete:\n",
        "  def __init__(self,name,age,initial_stamina,initial_speed,initial_strength,initial_balance,initial_agility):\n",
        "    name = name\n",
        "    age  = age\n",
        "    self.stamina  = initial_stamina\n",
        "    self.speed    = initial_speed\n",
        "    self.strength = initial_strength\n",
        "    self.balance  = initial_balance\n",
        "    self.agility  = initial_agility\n",
        "    \n",
        "    self.calculate_soccer_scores()\n",
        "    self.calculate_track_scores()\n",
        "    self.calculate_sports_scores()\n",
        "  \n",
        "  def calculate_soccer_scores(self):\n",
        "    self.striker_score  = (40.*self.speed + 40.*self.agility + 20*self.balance)/100.\n",
        "    self.midfield_score = (30.*self.speed + 40.*self.stamina + 30*self.balance)/100.\n",
        "    self.defence_score  = (30.*self.speed + 30.*self.stamina + 40*self.strength)/100.\n",
        "    \n",
        "\n",
        "  def calculate_track_scores(self):\n",
        "    self.sprint_score    = (80.*self.speed + 10.*self.agility + 10*self.stamina)/100.\n",
        "    self.walk_score      = (30.*self.speed + 10.*self.balance + 60*self.stamina)/100.\n",
        "    self.marathon_score  = (20.*self.speed + 80.*self.stamina)/100.\n",
        "    self.jump_score      = (30.*self.speed + 50.*self.balance + 20*self.agility)/100.\n",
        "    \n",
        "    self.hurdles_score   = (60.*self.sprint_score + 40.*self.jump_score)/100.\n",
        "    self.relay_score     = (80.*self.sprint_score + 20.*self.balance)/100.\n",
        "    \n",
        "  def calculate_sports_scores(self):\n",
        "    self.volley_score = (40*self.striker_score +60*self.jump_score)/100."
      ],
      "execution_count": 0,
      "outputs": []
    },
    {
      "cell_type": "code",
      "metadata": {
        "id": "hY_EDpQutd4z",
        "colab_type": "code",
        "colab": {
          "base_uri": "https://localhost:8080/",
          "height": 178
        },
        "outputId": "6879b69f-4cc6-4bd0-c855-fd744434b341"
      },
      "source": [
        "# Creating a class object\n",
        "P1 = athlete(\"Rapinoe\",34,82,95,60,74,90)\n",
        "# Creating another object\n",
        "P2 = athlete(\"Dunn\",27,80,78,93,67,70)\n",
        "\n",
        "P1.calculate_track_scores()\n",
        "P2.calculate_track_scores()\n",
        "\n",
        "print(\"P1\")\n",
        "print(vars(P1))\n",
        "print(\"\\n\")\n",
        "print(\"P2\")\n",
        "print(vars(P2))\n",
        "print(\"\\n\")"
      ],
      "execution_count": 45,
      "outputs": [
        {
          "output_type": "stream",
          "text": [
            "P1\n",
            "{'stamina': 82, 'speed': 95, 'strength': 60, 'balance': 74, 'agility': 90, 'striker_score': 88.8, 'midfield_score': 83.5, 'defence_score': 77.1, 'sprint_score': 93.2, 'walk_score': 85.1, 'marathon_score': 84.6, 'jump_score': 83.5, 'hurdles_score': 89.32, 'relay_score': 89.36, 'volley_score': 85.62}\n",
            "\n",
            "\n",
            "P2\n",
            "{'stamina': 80, 'speed': 78, 'strength': 93, 'balance': 67, 'agility': 70, 'striker_score': 72.6, 'midfield_score': 75.5, 'defence_score': 84.6, 'sprint_score': 77.4, 'walk_score': 78.1, 'marathon_score': 79.6, 'jump_score': 70.9, 'hurdles_score': 74.8, 'relay_score': 75.32, 'volley_score': 71.58}\n",
            "\n",
            "\n"
          ],
          "name": "stdout"
        }
      ]
    },
    {
      "cell_type": "markdown",
      "metadata": {
        "id": "onMxRbEguNTQ",
        "colab_type": "text"
      },
      "source": [
        "We need an upgraed function to increase players' skills - just like we do it in a computer game."
      ]
    },
    {
      "cell_type": "code",
      "metadata": {
        "id": "qC3lh1YCJ6b4",
        "colab_type": "code",
        "colab": {}
      },
      "source": [
        "class athlete:\n",
        "  def __init__(self,name,age,initial_stamina,initial_speed,initial_strength,initial_balance,initial_agility):\n",
        "    name = name\n",
        "    age  = age\n",
        "    self.stamina  = initial_stamina\n",
        "    self.speed    = initial_speed\n",
        "    self.strength = initial_strength\n",
        "    self.balance  = initial_balance\n",
        "    self.agility  = initial_agility\n",
        "    \n",
        "    self.calculate_soccer_scores()\n",
        "    self.calculate_track_scores()\n",
        "    self.calculate_sports_scores()\n",
        "  \n",
        "  def calculate_soccer_scores(self):\n",
        "    self.striker_score  = (40.*self.speed + 40.*self.agility + 20*self.balance)/100.\n",
        "    self.midfield_score = (30.*self.speed + 40.*self.stamina + 30*self.balance)/100.\n",
        "    self.defence_score  = (30.*self.speed + 30.*self.stamina + 40*self.strength)/100.\n",
        "    \n",
        "\n",
        "  def calculate_track_scores(self):\n",
        "    self.sprint_score    = (80.*self.speed + 10.*self.agility + 10*self.stamina)/100.\n",
        "    self.walk_score      = (30.*self.speed + 10.*self.balance + 60*self.stamina)/100.\n",
        "    self.marathon_score  = (20.*self.speed + 80.*self.stamina)/100.\n",
        "    self.jump_score      = (30.*self.speed + 50.*self.balance + 20*self.agility)/100.\n",
        "    \n",
        "    self.hurdles_score   = (60.*self.sprint_score + 40.*self.jump_score)/100.\n",
        "    self.relay_score     = (80.*self.sprint_score + 20.*self.balance)/100.\n",
        "    \n",
        "  def calculate_sports_scores(self):\n",
        "    self.volley_score = (20*self.striker_score + 50*self.jump_score + 30*self.stamina)/100.\n",
        "    \n",
        "    \n",
        "  def upgrade_level(self,number_levels):\n",
        "    self.stamina  = self.stamina + (number_levels*10.)\n",
        "    self.speed    = self.speed + (number_levels*10.)\n",
        "    self.strength = self.strength + (number_levels*10.)\n",
        "    self.balance  = self.balance + (number_levels*10.)\n",
        "    self.agility  = self.agility + (number_levels*10.)\n",
        "    \n",
        "    self.calculate_soccer_scores()\n",
        "    self.calculate_track_scores()\n",
        "    self.calculate_sports_scores()"
      ],
      "execution_count": 0,
      "outputs": []
    },
    {
      "cell_type": "code",
      "metadata": {
        "id": "ebWXTxrjT5XT",
        "colab_type": "code",
        "colab": {
          "base_uri": "https://localhost:8080/",
          "height": 178
        },
        "outputId": "35455fc5-fabd-41e0-ee64-5db452e9fa1d"
      },
      "source": [
        "# Creating a class object\n",
        "P1 = athlete(\"Rapinoe\",34,82,95,60,74,90)\n",
        "# Creating another object\n",
        "P2 = athlete(\"Dunn\",27,80,78,93,67,70)\n",
        "\n",
        "P1.calculate_track_scores()\n",
        "P2.calculate_track_scores()\n",
        "\n",
        "print(\"P1\")\n",
        "print(vars(P1))\n",
        "print(\"\\n\")\n",
        "print(\"P2\")\n",
        "print(vars(P2))\n",
        "print(\"\\n\")"
      ],
      "execution_count": 47,
      "outputs": [
        {
          "output_type": "stream",
          "text": [
            "P1\n",
            "{'stamina': 82, 'speed': 95, 'strength': 60, 'balance': 74, 'agility': 90, 'striker_score': 88.8, 'midfield_score': 83.5, 'defence_score': 77.1, 'sprint_score': 93.2, 'walk_score': 85.1, 'marathon_score': 84.6, 'jump_score': 83.5, 'hurdles_score': 89.32, 'relay_score': 89.36, 'volley_score': 84.11}\n",
            "\n",
            "\n",
            "P2\n",
            "{'stamina': 80, 'speed': 78, 'strength': 93, 'balance': 67, 'agility': 70, 'striker_score': 72.6, 'midfield_score': 75.5, 'defence_score': 84.6, 'sprint_score': 77.4, 'walk_score': 78.1, 'marathon_score': 79.6, 'jump_score': 70.9, 'hurdles_score': 74.8, 'relay_score': 75.32, 'volley_score': 73.97}\n",
            "\n",
            "\n"
          ],
          "name": "stdout"
        }
      ]
    },
    {
      "cell_type": "code",
      "metadata": {
        "id": "9RHAO6Mgug8L",
        "colab_type": "code",
        "colab": {
          "base_uri": "https://localhost:8080/",
          "height": 178
        },
        "outputId": "8c1a4848-5c43-467c-9e98-4a328be22187"
      },
      "source": [
        "P2.upgrade_level(1)\n",
        "\n",
        "print(\"P1\")\n",
        "print(vars(P1))\n",
        "print(\"\\n\")\n",
        "print(\"P2\")\n",
        "print(vars(P2))\n",
        "print(\"\\n\")"
      ],
      "execution_count": 48,
      "outputs": [
        {
          "output_type": "stream",
          "text": [
            "P1\n",
            "{'stamina': 82, 'speed': 95, 'strength': 60, 'balance': 74, 'agility': 90, 'striker_score': 88.8, 'midfield_score': 83.5, 'defence_score': 77.1, 'sprint_score': 93.2, 'walk_score': 85.1, 'marathon_score': 84.6, 'jump_score': 83.5, 'hurdles_score': 89.32, 'relay_score': 89.36, 'volley_score': 84.11}\n",
            "\n",
            "\n",
            "P2\n",
            "{'stamina': 90.0, 'speed': 88.0, 'strength': 103.0, 'balance': 77.0, 'agility': 80.0, 'striker_score': 82.6, 'midfield_score': 85.5, 'defence_score': 94.6, 'sprint_score': 87.4, 'walk_score': 88.1, 'marathon_score': 89.6, 'jump_score': 80.9, 'hurdles_score': 84.8, 'relay_score': 85.32, 'volley_score': 83.97}\n",
            "\n",
            "\n"
          ],
          "name": "stdout"
        }
      ]
    },
    {
      "cell_type": "markdown",
      "metadata": {
        "id": "ChAky5Z-T6dm",
        "colab_type": "text"
      },
      "source": [
        "---\n",
        "\n",
        "Look closely at the order of score updating, and calling of calculation functions within upgrade function\n",
        "\n",
        "\n",
        "---\n",
        "\n",
        "\n"
      ]
    },
    {
      "cell_type": "markdown",
      "metadata": {
        "id": "MN-83QrlGL2M",
        "colab_type": "text"
      },
      "source": [
        "# Class Inheritance\n",
        "### Cars with Classes!\n",
        "\n",
        "Seen the Pixar movie Cars? The objects being shown in it (i.e.; the cars) can be represented using Classes.\n",
        "\n",
        "Classes are widely used in animation and graphics!"
      ]
    },
    {
      "cell_type": "code",
      "metadata": {
        "id": "KOtxU4tfGihI",
        "colab_type": "code",
        "colab": {}
      },
      "source": [
        "class Cars:\n",
        "  def __init__(self,name,model,power,speed):\n",
        "    self.name   = name\n",
        "    self.model  = model\n",
        "    self.power  = power\n",
        "    self.speed  = speed\n",
        "    self.colors = []\n",
        "    \n",
        "  def add_colors(self,color_name):\n",
        "    # Add colors and sort the list by name\n",
        "    self.colors = self.colors.append(color_name)\n",
        "    self.colors = sorted(self.colors)"
      ],
      "execution_count": 0,
      "outputs": []
    },
    {
      "cell_type": "markdown",
      "metadata": {
        "id": "pmSsbBVoPP4o",
        "colab_type": "text"
      },
      "source": [
        "Now we make two sub-classes *inherited* from the main class (i.e.; Cars). See, these two classes have something different on the first line itself!\n",
        "\n",
        "The class Characters corresponds to the cars playing main roles in the movie. i.e.; the ones which have dialogues and thus, get a voice-over from human celebrities.\n",
        "Also, sometimes, corresponding to the movie plot, these cars may get a nitro-boost on their engine to perform better (i.e.; increase speed and power) on the racing scenes and power show-offs for a short amount of time. That can be achieved by calling a *nitro_booster* function followed by a *nitro_debooster* function.\n",
        "\n",
        "The class Extras represents the cars in the movie which run in the background and in most cases, doesn't appear in more than one scene. They don't need to have a voice-over, but most often, they make are accompanied by a background noise. \n",
        "\n",
        "In Extras, sometimes when a large number of cars are to be created to be shown in background, coders can make a few prototypes and then just change their models to produce a non-uniform fleet of cars."
      ]
    },
    {
      "cell_type": "code",
      "metadata": {
        "id": "RX2glYxhPNt-",
        "colab_type": "code",
        "colab": {}
      },
      "source": [
        "class Characters(Cars):\n",
        "  def __init__(self,name,model,power,speed,voice):\n",
        "    self.voice = voice\n",
        "    self.__boost = False\n",
        "    Cars.__init__(self,name,model,power,speed)\n",
        "    \n",
        "  def power_booster(self):\n",
        "    self.power = self.power * 2.\n",
        "    self.speed = self.speed * 2.\n",
        "    self.__boost = True\n",
        "    \n",
        "  def power_debooster(self):\n",
        "    if self.boost == True:\n",
        "      self.power = self.power / 2.\n",
        "      self.speed = self.speed / 2.\n",
        "      self.__boost = False\n",
        "    else:\n",
        "      print(\"The car did not have an existing boost.\")\n",
        "      \n",
        "    \n",
        "    \n",
        "    \n",
        "class Extras(Cars):\n",
        "  def __init__(self,name,model,power,speed,noise):\n",
        "    self.noise = noise\n",
        "    Cars.__init__(self,name,model,power,speed)\n",
        "    \n",
        "  def change_model(self,new_model):\n",
        "    if self.model == new_model:\n",
        "      print(\"enter a different model\")\n",
        "      \n",
        "    else:\n",
        "      self.model = new_model"
      ],
      "execution_count": 0,
      "outputs": []
    },
    {
      "cell_type": "markdown",
      "metadata": {
        "id": "NLizbyjtqR9Z",
        "colab_type": "text"
      },
      "source": [
        "Now we can make three different car objects (one each from Cars, Characters, and Extras classes). But only the ones created from Characters and Extras will be used in the movie since they contain important data that the higher class Cars doesn't contain. \n",
        "\n",
        "Observe that data being stored in each object."
      ]
    },
    {
      "cell_type": "code",
      "metadata": {
        "id": "pstP-AVsRZtF",
        "colab_type": "code",
        "colab": {}
      },
      "source": [
        "car1 = Cars(\"Demo_name\",\"Demo_Model\",0,0)"
      ],
      "execution_count": 0,
      "outputs": []
    },
    {
      "cell_type": "code",
      "metadata": {
        "id": "LjrgSbmqNkxz",
        "colab_type": "code",
        "colab": {}
      },
      "source": [
        "# Lightning McQueen is equipped with a 750-horsepower V8 engine and a max speed of 200 miles/hour\n",
        "car2 = Characters(\"Lightning McQueen\",\"Corvette C1\",750,200,\"Owen Wilson\")"
      ],
      "execution_count": 0,
      "outputs": []
    },
    {
      "cell_type": "code",
      "metadata": {
        "id": "_g-PfWlHNk1G",
        "colab_type": "code",
        "colab": {}
      },
      "source": [
        "car3 = Extras(\"EC1729\",\"Corolla\",375,105,True)"
      ],
      "execution_count": 0,
      "outputs": []
    },
    {
      "cell_type": "code",
      "metadata": {
        "id": "EHAy4a4JNk-J",
        "colab_type": "code",
        "colab": {
          "base_uri": "https://localhost:8080/",
          "height": 105
        },
        "outputId": "2442e7cb-cd8c-4424-b7b7-a1808c59acfb"
      },
      "source": [
        "vars(car1)"
      ],
      "execution_count": 18,
      "outputs": [
        {
          "output_type": "execute_result",
          "data": {
            "text/plain": [
              "{'colors': [],\n",
              " 'model': 'Demo_Model',\n",
              " 'name': 'Demo_name',\n",
              " 'power': 0,\n",
              " 'speed': 0}"
            ]
          },
          "metadata": {
            "tags": []
          },
          "execution_count": 18
        }
      ]
    },
    {
      "cell_type": "code",
      "metadata": {
        "id": "NpwIQhgI1c_y",
        "colab_type": "code",
        "colab": {
          "base_uri": "https://localhost:8080/",
          "height": 141
        },
        "outputId": "aa2ad777-e5c8-4f3e-b787-27f77ff54789"
      },
      "source": [
        "vars(car2)"
      ],
      "execution_count": 19,
      "outputs": [
        {
          "output_type": "execute_result",
          "data": {
            "text/plain": [
              "{'_Characters__boost': False,\n",
              " 'colors': [],\n",
              " 'model': 'Corvette C1',\n",
              " 'name': 'Lightning McQueen',\n",
              " 'power': 750,\n",
              " 'speed': 200,\n",
              " 'voice': 'Owen Wilson'}"
            ]
          },
          "metadata": {
            "tags": []
          },
          "execution_count": 19
        }
      ]
    },
    {
      "cell_type": "code",
      "metadata": {
        "id": "PF1jxndL1g1v",
        "colab_type": "code",
        "colab": {
          "base_uri": "https://localhost:8080/",
          "height": 123
        },
        "outputId": "2fc3e0d3-377c-4488-e59f-98143298c819"
      },
      "source": [
        "vars(car3)"
      ],
      "execution_count": 20,
      "outputs": [
        {
          "output_type": "execute_result",
          "data": {
            "text/plain": [
              "{'colors': [],\n",
              " 'model': 'Corolla',\n",
              " 'name': 'EC1729',\n",
              " 'noise': True,\n",
              " 'power': 375,\n",
              " 'speed': 105}"
            ]
          },
          "metadata": {
            "tags": []
          },
          "execution_count": 20
        }
      ]
    },
    {
      "cell_type": "markdown",
      "metadata": {
        "id": "3INhW2QDPpA6",
        "colab_type": "text"
      },
      "source": [
        "# Class Encapsulation\n",
        "### A secret note-taker.\n"
      ]
    },
    {
      "cell_type": "code",
      "metadata": {
        "id": "uRMWflO6NlHq",
        "colab_type": "code",
        "colab": {}
      },
      "source": [
        "class Notes:\n",
        "  def __init__(self,name,password):\n",
        "    self.Notebook_name = name\n",
        "    self.open_notes = []\n",
        "    self.__secret_notes = []\n",
        "    self.__password = password\n",
        "    \n",
        "  def add_open_note(self,note):\n",
        "    self.open_notes.append(note)\n",
        "    \n",
        "  def add_secret_note(self,note,password):\n",
        "    if self.__password == password:\n",
        "      self.__secret_notes.append(note)\n",
        "      \n",
        "  def view_secret_note(self,password):\n",
        "    if self.__password == password:\n",
        "      print(__secret_notes.append(note))\n",
        "    \n",
        "    "
      ],
      "execution_count": 0,
      "outputs": []
    },
    {
      "cell_type": "code",
      "metadata": {
        "id": "qIlDtwIjQUjR",
        "colab_type": "code",
        "colab": {}
      },
      "source": [
        ""
      ],
      "execution_count": 0,
      "outputs": []
    },
    {
      "cell_type": "code",
      "metadata": {
        "id": "oTFqqQQQQVE-",
        "colab_type": "code",
        "colab": {}
      },
      "source": [
        ""
      ],
      "execution_count": 0,
      "outputs": []
    },
    {
      "cell_type": "markdown",
      "metadata": {
        "id": "mYfRRSkuQV7d",
        "colab_type": "text"
      },
      "source": [
        "# Nested Classes\n",
        "\n"
      ]
    },
    {
      "cell_type": "code",
      "metadata": {
        "id": "3Dhu2ymbSMna",
        "colab_type": "code",
        "colab": {}
      },
      "source": [
        "class Person:\n",
        "  def __init__(self,owner_name,license_number):\n",
        "    self.owner = owner_name\n",
        "    self.license = license_number\n",
        "    \n",
        "    \n",
        "class Vehicle:\n",
        "  def __init__(self,category,registration_number,owner_name,license_number):\n",
        "    self.category = category\n",
        "    self.registration = registration_number\n",
        "    self.owner = Person(owner_name,license_number)\n",
        "    \n",
        "    "
      ],
      "execution_count": 0,
      "outputs": []
    },
    {
      "cell_type": "markdown",
      "metadata": {
        "id": "9Jrerqw70AOQ",
        "colab_type": "text"
      },
      "source": [
        "Wanna see where Classes are used?\n",
        "Check this out: https://github.com/tensorflow/tensorflow/blob/master/tensorflow/python/training/adam.py\n",
        "\n",
        "Ever talked to your phone with \"OK Google\" or used one of the cool Snapchatfilters? \n",
        "If yes, you may thank this class!! \n",
        "\n",
        "Some of the biggest Artificial Intelligence machines in the world uses this class. But don't be afraid, you might be able to spot some familiar concepts in this script now: initializations, variables, methods, Inheritance, ...? "
      ]
    },
    {
      "cell_type": "code",
      "metadata": {
        "id": "POc6lR913K4r",
        "colab_type": "code",
        "colab": {}
      },
      "source": [
        ""
      ],
      "execution_count": 0,
      "outputs": []
    }
  ]
}